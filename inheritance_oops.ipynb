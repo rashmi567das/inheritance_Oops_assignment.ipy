{
 "cells": [
  {
   "cell_type": "code",
   "execution_count": 1,
   "id": "3469880b-6036-4568-8efb-0317cf7f413f",
   "metadata": {},
   "outputs": [],
   "source": [
    "class a :\n",
    "    def test(self):\n",
    "        print(\"This test method is a part of class a \")\n",
    "        \n",
    "    def test1(self):\n",
    "        print(\"This is test1 from class a \")"
   ]
  },
  {
   "cell_type": "code",
   "execution_count": 2,
   "id": "85cd6215-995b-42ac-814a-5339da06a48c",
   "metadata": {},
   "outputs": [],
   "source": [
    "obj_a = a()"
   ]
  },
  {
   "cell_type": "code",
   "execution_count": 3,
   "id": "7f6ba8a5-148b-4339-8ee8-ccedc2001a4f",
   "metadata": {},
   "outputs": [
    {
     "name": "stdout",
     "output_type": "stream",
     "text": [
      "This test method is a part of class a \n"
     ]
    }
   ],
   "source": [
    "obj_a.test()"
   ]
  },
  {
   "cell_type": "code",
   "execution_count": 4,
   "id": "91fae75b-51b4-4587-8d8c-c67a31327d75",
   "metadata": {},
   "outputs": [
    {
     "name": "stdout",
     "output_type": "stream",
     "text": [
      "This is test1 from class a \n"
     ]
    }
   ],
   "source": [
    "obj_a.test1()"
   ]
  },
  {
   "cell_type": "code",
   "execution_count": 5,
   "id": "8a4a3495-8ce5-480a-964e-62e51e3e25a2",
   "metadata": {},
   "outputs": [],
   "source": [
    "class b(a) :\n",
    "    def test1b(self):\n",
    "        print(\"This is a part of class b\")"
   ]
  },
  {
   "cell_type": "code",
   "execution_count": 6,
   "id": "3beaae56-581c-4e72-8084-668e633ef883",
   "metadata": {},
   "outputs": [],
   "source": [
    "obj_b = b()"
   ]
  },
  {
   "cell_type": "code",
   "execution_count": 8,
   "id": "cf22b29a-a4fb-4043-9cf8-9860b1fc080d",
   "metadata": {},
   "outputs": [
    {
     "name": "stdout",
     "output_type": "stream",
     "text": [
      "This test method is a part of class a \n"
     ]
    }
   ],
   "source": [
    "obj_b.test()"
   ]
  },
  {
   "cell_type": "code",
   "execution_count": 9,
   "id": "2d0e929c-b9d4-4e05-bc82-5d899c1c07dd",
   "metadata": {},
   "outputs": [
    {
     "name": "stdout",
     "output_type": "stream",
     "text": [
      "This is test1 from class a \n"
     ]
    }
   ],
   "source": [
    "obj_b.test1()"
   ]
  },
  {
   "cell_type": "code",
   "execution_count": 10,
   "id": "027af233-f3a4-444b-bf48-e654cea88776",
   "metadata": {},
   "outputs": [
    {
     "name": "stdout",
     "output_type": "stream",
     "text": [
      "This is a part of class b\n"
     ]
    }
   ],
   "source": [
    "obj_b.test1b()"
   ]
  },
  {
   "cell_type": "code",
   "execution_count": 11,
   "id": "4f9d9afa-83a2-4a6f-a7f7-d74b30919e2a",
   "metadata": {},
   "outputs": [],
   "source": [
    "class lecture :\n",
    "    def topic(self):\n",
    "        print(\"todays class we are discussing about inheritance concept in oops\")\n",
    "        \n",
    "    def timing(self):\n",
    "        print(\"timing for todays class is 9 AM 1ST\")\n",
    "        \n",
    "        \n",
    "    def end_time(self):\n",
    "        print(\"today i will try to end class bit early\")"
   ]
  },
  {
   "cell_type": "code",
   "execution_count": 12,
   "id": "a3f90be2-c8a7-4eaa-ae96-5c3008d563a0",
   "metadata": {},
   "outputs": [],
   "source": [
    "class student(lecture) :\n",
    "    def student_details(self):\n",
    "        print(\"this class will give you a student details\")"
   ]
  },
  {
   "cell_type": "code",
   "execution_count": 13,
   "id": "84359a8f-f433-40e3-89c7-cbdacbba1130",
   "metadata": {},
   "outputs": [],
   "source": [
    "naval = student()"
   ]
  },
  {
   "cell_type": "code",
   "execution_count": 14,
   "id": "bc08bfd0-9b4e-4eec-bcc6-0faa79e68279",
   "metadata": {},
   "outputs": [
    {
     "name": "stdout",
     "output_type": "stream",
     "text": [
      "todays class we are discussing about inheritance concept in oops\n"
     ]
    }
   ],
   "source": [
    "naval.topic()"
   ]
  },
  {
   "cell_type": "code",
   "execution_count": 15,
   "id": "c9b7676c-56df-476b-b1ca-3bc8fa12df80",
   "metadata": {},
   "outputs": [],
   "source": [
    "satish = student()"
   ]
  },
  {
   "cell_type": "code",
   "execution_count": 16,
   "id": "3970d683-2f2d-41a5-aa3d-30464455afeb",
   "metadata": {},
   "outputs": [
    {
     "name": "stdout",
     "output_type": "stream",
     "text": [
      "timing for todays class is 9 AM 1ST\n"
     ]
    }
   ],
   "source": [
    "satish.timing()"
   ]
  },
  {
   "cell_type": "code",
   "execution_count": 17,
   "id": "4a25f861-29bf-41b6-badf-dfc8947ccb5b",
   "metadata": {},
   "outputs": [],
   "source": [
    "class teacher(student) :\n",
    "    def details(self):\n",
    "        print(\"this will give you a details about teacher\")\n",
    "        "
   ]
  },
  {
   "cell_type": "code",
   "execution_count": 18,
   "id": "92cd0ab6-2d1c-49fa-8f49-09b5c5b8e4dd",
   "metadata": {},
   "outputs": [],
   "source": [
    "rashmi = teacher()"
   ]
  },
  {
   "cell_type": "code",
   "execution_count": 19,
   "id": "6b7b4478-89c8-42b9-b1bb-940a17ecf595",
   "metadata": {},
   "outputs": [
    {
     "name": "stdout",
     "output_type": "stream",
     "text": [
      "timing for todays class is 9 AM 1ST\n"
     ]
    }
   ],
   "source": [
    "rashmi.timing()"
   ]
  },
  {
   "cell_type": "code",
   "execution_count": 20,
   "id": "28aa02c1-816a-4795-a470-2466f879ad2d",
   "metadata": {},
   "outputs": [],
   "source": [
    "class lecture :\n",
    "    def topic(self):\n",
    "        print(\"todays class we are discussing about inheritance concept in oops\")\n",
    "        \n",
    "    def timing(self):\n",
    "        print(\"timing for todays class is 9 AM 1ST\")\n",
    "        \n",
    "    def end_time(self):\n",
    "        print(\"today i will try to end class bit early\")"
   ]
  },
  {
   "cell_type": "code",
   "execution_count": 21,
   "id": "83dda1f9-7194-4de8-a91d-6857f6748264",
   "metadata": {},
   "outputs": [],
   "source": [
    "class student :\n",
    "    def student_details(self):\n",
    "        print(\"this class will give you a student details\")\n",
    "        \n",
    "    def timing(self):\n",
    "        print(\"this is atiming fun from student class\")"
   ]
  },
  {
   "cell_type": "code",
   "execution_count": 22,
   "id": "4aff4417-823a-4d56-918e-6811f6d701c2",
   "metadata": {},
   "outputs": [],
   "source": [
    "class teacher(student,lecture) :\n",
    "    def details(self):\n",
    "        print(\"this will give you a details about teacher\")\n",
    "        "
   ]
  },
  {
   "cell_type": "code",
   "execution_count": 23,
   "id": "b6165a8a-2be1-4053-b80b-36b183aa6225",
   "metadata": {},
   "outputs": [],
   "source": [
    "rashmi = teacher()"
   ]
  },
  {
   "cell_type": "code",
   "execution_count": 24,
   "id": "06fb8057-1b50-48b4-88c1-6fd5e26d23af",
   "metadata": {},
   "outputs": [
    {
     "name": "stdout",
     "output_type": "stream",
     "text": [
      "this is atiming fun from student class\n"
     ]
    }
   ],
   "source": [
    "rashmi.timing()"
   ]
  },
  {
   "cell_type": "code",
   "execution_count": 25,
   "id": "dd397944-f08f-4d91-ab18-0a96d8b785ef",
   "metadata": {},
   "outputs": [
    {
     "name": "stdout",
     "output_type": "stream",
     "text": [
      "this class will give you a student details\n"
     ]
    }
   ],
   "source": [
    "rashmi.student_details()"
   ]
  },
  {
   "cell_type": "code",
   "execution_count": 26,
   "id": "637407aa-ebd5-4d64-8e53-5a2eaa875be5",
   "metadata": {},
   "outputs": [],
   "source": [
    "class teacher(lecture,student) :\n",
    "    def details(self):\n",
    "        print(\"this will give you a details about teacher\")\n",
    "        "
   ]
  },
  {
   "cell_type": "code",
   "execution_count": 29,
   "id": "0c0a94cd-5afe-413d-b777-cebc58d0bbc6",
   "metadata": {},
   "outputs": [],
   "source": [
    "rainy = teacher()"
   ]
  },
  {
   "cell_type": "code",
   "execution_count": 30,
   "id": "781946aa-5e79-4ac2-b213-9b27184acc36",
   "metadata": {},
   "outputs": [
    {
     "name": "stdout",
     "output_type": "stream",
     "text": [
      "timing for todays class is 9 AM 1ST\n"
     ]
    }
   ],
   "source": [
    "rainy.timing()"
   ]
  },
  {
   "cell_type": "code",
   "execution_count": 31,
   "id": "5ce95c43-6021-44d6-a983-efaf0f04f214",
   "metadata": {},
   "outputs": [
    {
     "name": "stdout",
     "output_type": "stream",
     "text": [
      "this class will give you a student details\n"
     ]
    }
   ],
   "source": [
    "rainy.student_details()"
   ]
  },
  {
   "cell_type": "code",
   "execution_count": 33,
   "id": "34db28b7-d46f-4350-b3f4-dca204e3cc5e",
   "metadata": {},
   "outputs": [],
   "source": [
    "class bankaccount :\n",
    "    \n",
    "    def account_details(self,no_of_ac, name_of_ac_holder, balance_in_ac):\n",
    "        print(\"this will give you a details about account holder\")\n",
    "        \n",
    "    def deposite(self, amount):\n",
    "        print(\"i am trying to deposite some money in my account:\", amount)\n",
    "        \n",
    "    def withdraw(self, amt_with):\n",
    "        print(\"trying to withdraw money from my account:\", amt_with)\n",
    "        "
   ]
  },
  {
   "cell_type": "code",
   "execution_count": 34,
   "id": "9c633a8a-ef78-4cfe-ad9c-d1545b9ef9e8",
   "metadata": {},
   "outputs": [],
   "source": [
    "obj_a = bankaccount()"
   ]
  },
  {
   "cell_type": "code",
   "execution_count": 36,
   "id": "66f6087e-d375-44ed-85fb-afad0d2087e0",
   "metadata": {},
   "outputs": [
    {
     "name": "stdout",
     "output_type": "stream",
     "text": [
      "this will give you a details about account holder\n"
     ]
    }
   ],
   "source": [
    "obj_a.account_details(12345,rashmi,50000)"
   ]
  },
  {
   "cell_type": "code",
   "execution_count": 38,
   "id": "3e10c55f-80ac-4ca0-ab1e-0173194470a4",
   "metadata": {},
   "outputs": [
    {
     "name": "stdout",
     "output_type": "stream",
     "text": [
      "i am trying to deposite some money in my account: 5000\n"
     ]
    }
   ],
   "source": [
    "obj_a.deposite(5000)"
   ]
  },
  {
   "cell_type": "code",
   "execution_count": 40,
   "id": "50354d58-59e8-42ad-bbf4-1c243f1a57fc",
   "metadata": {},
   "outputs": [
    {
     "name": "stdout",
     "output_type": "stream",
     "text": [
      "trying to withdraw money from my account: 1000\n"
     ]
    }
   ],
   "source": [
    "obj_a.withdraw(1000)"
   ]
  },
  {
   "cell_type": "code",
   "execution_count": 8,
   "id": "b085f500-5c9a-4f2f-9ae4-3f4892e40db1",
   "metadata": {},
   "outputs": [],
   "source": [
    "class employee :\n",
    "    def __init__(self, employee_id, employee_name, salary):\n",
    "        self.employee_id = employee_id\n",
    "        self.employee_name = employee_name\n",
    "        self.salary = salary\n",
    "        \n",
    "    def calculate_yearly_bonus(self,bonus_percentage):\n",
    "        return (bonus_percentage / 100) * self.salary\n",
    "    \n",
    "    def display_details(self):\n",
    "        print(\"Employee Id:\", self.employee_id)\n",
    "        print(\"Employee name:\", self.employee_name)\n",
    "        print(\"salary:\", self.salary)\n"
   ]
  },
  {
   "cell_type": "code",
   "execution_count": 9,
   "id": "adafcdb0-cfb1-429d-a774-de350c63a5a2",
   "metadata": {},
   "outputs": [],
   "source": [
    "employee1 = employee(\"XYZ0106201201\", \"rashmi\", 30000)"
   ]
  },
  {
   "cell_type": "code",
   "execution_count": 12,
   "id": "95f7207f-47e3-41ea-a18f-3a84d2c84366",
   "metadata": {},
   "outputs": [],
   "source": [
    "bonus_percentage = 10"
   ]
  },
  {
   "cell_type": "code",
   "execution_count": 13,
   "id": "1cc82731-9080-43dc-af66-5b0e025fd364",
   "metadata": {},
   "outputs": [
    {
     "data": {
      "text/plain": [
       "3000.0"
      ]
     },
     "execution_count": 13,
     "metadata": {},
     "output_type": "execute_result"
    }
   ],
   "source": [
    "employee1.calculate_yearly_bonus(bonus_percentage)"
   ]
  },
  {
   "cell_type": "code",
   "execution_count": 15,
   "id": "b3a920c0-f76f-411a-a45c-1f6ed03772c4",
   "metadata": {},
   "outputs": [
    {
     "name": "stdout",
     "output_type": "stream",
     "text": [
      "Employee Id: XYZ0106201201\n",
      "Employee name: rashmi\n",
      "salary: 30000\n"
     ]
    }
   ],
   "source": [
    "employee1.display_details()"
   ]
  },
  {
   "cell_type": "code",
   "execution_count": 43,
   "id": "faaa9bf0-7653-4f30-98b2-2f5c90d788f9",
   "metadata": {},
   "outputs": [],
   "source": [
    "class VehicleRentalSystem :\n",
    "    def __init__(self):\n",
    "        self.available_vehicles = {\"Car\": 10, \"Motorcycle\":15, \"Bicycle\": 20}\n",
    "        self.rented_vehicles = {\"Car\": 0, \"Motorcycle\": 0, \"Bicycle\": 0}\n",
    "        \n",
    "    def rent_vehicle(self, vehicle_type, quantity):\n",
    "        if vehicle_type in self.available_vehicles and quantity > 0:\n",
    "            if self.available_vehicles[vehicle_type] >= quantity:\n",
    "                self.available_vehicles[vehicle_type] -= quantity\n",
    "                self.rented_vehicles[vehicle_type] += quantity\n",
    "                return f\"Rented {quantity} {vehicle_type}(s).\"\n",
    "            else:\n",
    "                return f\"sorry, we don't have enough {vehicle_type}(s)available.\"\n",
    "        else:\n",
    "            return \"Invalid vehicle type or quantity.\"\n",
    "        \n",
    "    def return_vehicle(self, vehicle_type, quantity):\n",
    "        if vehicle_type in self.rented_vehicles and quantity >0:\n",
    "            if self.rented_vehicles[vehicle_type] >= quantity:\n",
    "                self.available_vehicles[vehicle_type] += quantity\n",
    "                self.rented_vehicles[vehicle_type] -= quantity\n",
    "            \n",
    "                return f\"Returned {quantity} {vehicle_type}(s).\"\n",
    "            else:\n",
    "                return f\"you can't return more {vehicle_type}(s)than you rented.\"\n",
    "        else:\n",
    "            return \"Invalid vehicle type or quantity.\"\n",
    "        \n",
    "    def display_available_vehicles(self):\n",
    "        return self.available_vehicles\n",
    "        "
   ]
  },
  {
   "cell_type": "code",
   "execution_count": 44,
   "id": "296a4fe8-a722-43ec-8889-cea15cc992ca",
   "metadata": {},
   "outputs": [],
   "source": [
    "rental1 = VehicleRentalSystem()"
   ]
  },
  {
   "cell_type": "code",
   "execution_count": 45,
   "id": "89ce9dcf-17ae-4479-95c0-a094ca5cc5d0",
   "metadata": {},
   "outputs": [
    {
     "data": {
      "text/plain": [
       "'Rented 2 Car(s).'"
      ]
     },
     "execution_count": 45,
     "metadata": {},
     "output_type": "execute_result"
    }
   ],
   "source": [
    "rental1.rent_vehicle(\"Car\", 2)"
   ]
  },
  {
   "cell_type": "code",
   "execution_count": 46,
   "id": "eabede0b-40ce-49f6-9bb9-313a8dae62de",
   "metadata": {},
   "outputs": [
    {
     "data": {
      "text/plain": [
       "'Returned 1 Car(s).'"
      ]
     },
     "execution_count": 46,
     "metadata": {},
     "output_type": "execute_result"
    }
   ],
   "source": [
    "rental1.return_vehicle(\"Car\", 1)"
   ]
  },
  {
   "cell_type": "code",
   "execution_count": 47,
   "id": "7a26f016-10eb-4b10-9ffb-6ad54b1dc622",
   "metadata": {},
   "outputs": [
    {
     "data": {
      "text/plain": [
       "{'Car': 9, 'Motorcycle': 15, 'Bicycle': 20}"
      ]
     },
     "execution_count": 47,
     "metadata": {},
     "output_type": "execute_result"
    }
   ],
   "source": [
    "rental1.display_available_vehicles()"
   ]
  },
  {
   "cell_type": "code",
   "execution_count": 2,
   "id": "f680d45b-4585-4498-8564-725919408ac8",
   "metadata": {},
   "outputs": [],
   "source": [
    "class library:\n",
    "    def __init__(self):\n",
    "        self.books = {}\n",
    "        \n",
    "    def add_book(self, title, quantity):\n",
    "        if title in self.books:\n",
    "            self.books[title] +=qantity\n",
    "        else:\n",
    "            self.books[title] = quantity\n",
    "            \n",
    "    def borrow_book(self, title, quantity):\n",
    "        if title in self.books and self.books[title] >= quantity and quantity >0:\n",
    "            self.books[title] -= quantity\n",
    "            return f\"borrowed {quantity} copy(ies) of '{title}'.\"\n",
    "        else:\n",
    "            return \"Books not available or invalid qantity.\"\n",
    "        \n",
    "    def display_available_books(self):\n",
    "        return self.books"
   ]
  },
  {
   "cell_type": "code",
   "execution_count": 3,
   "id": "2e99bbd4-0c88-4358-ad39-61de3bcd7d18",
   "metadata": {},
   "outputs": [],
   "source": [
    "library = library()"
   ]
  },
  {
   "cell_type": "code",
   "execution_count": 4,
   "id": "3f640359-eb12-4598-865b-0652211dac26",
   "metadata": {},
   "outputs": [],
   "source": [
    "library.add_book(\"Python Programming\", 2)"
   ]
  },
  {
   "cell_type": "code",
   "execution_count": 5,
   "id": "f764c9b6-d828-4442-ab05-6c60349ce70d",
   "metadata": {},
   "outputs": [
    {
     "data": {
      "text/plain": [
       "'Books not available or invalid qantity.'"
      ]
     },
     "execution_count": 5,
     "metadata": {},
     "output_type": "execute_result"
    }
   ],
   "source": [
    "library.borrow_book(\"DSA\", 3)"
   ]
  },
  {
   "cell_type": "code",
   "execution_count": 41,
   "id": "2e70eac4-64c8-46f2-80d1-fe26d7838ffc",
   "metadata": {},
   "outputs": [],
   "source": [
    "class Product :\n",
    "    def __init__(self, product_id, name, price, quantity):\n",
    "        self.product_id = product_id\n",
    "        self.name = name\n",
    "        self.price = price\n",
    "        self.quantity = quantity\n",
    "        \n",
    "    def __str__(self):\n",
    "        return f\"Product ID: {self.product_id}, Name: {self.name}, Price: ${self.price:.2f}, Quantity: {self.quantity}\"\n",
    "\n",
    "        \n",
    "class Inventory :\n",
    "    def __init__(self):\n",
    "        self.products = []\n",
    "        \n",
    "    def add_product(self, product):\n",
    "        self.products.append(product)\n",
    "        \n",
    "    def update_quantity(self, product_id, new_quantity):\n",
    "        for product in self.products:\n",
    "            if product.product_id == product_id:\n",
    "                product.quantity == new_quantity\n",
    "                return f\"Quantity for {product.name} (Product ID: {product_id}) updated to {new_quantity}.\"\n",
    "        return f\"Product with ID {product_id} not found in the inventory.\"\n",
    "    \n",
    "    def display_available_products(self):\n",
    "        available_products = [product for product in self.products if product.quantity >0]\n",
    "        if available_products:\n",
    "            return \"\\nAvailable Products:\\n\" + \"\\n\".join(str(product) for product in available_products)\n",
    "        else:\n",
    "            return \"No products are available in the inventory.\"\n"
   ]
  },
  {
   "cell_type": "code",
   "execution_count": 42,
   "id": "3515adc4-3ff9-4423-8864-97ded7cf6ab6",
   "metadata": {},
   "outputs": [],
   "source": [
    "if __name__ == \"__main__\":\n",
    "    inventory = Inventory()"
   ]
  },
  {
   "cell_type": "code",
   "execution_count": 50,
   "id": "2cf46684-66bd-403f-851f-6eb2ecc68f92",
   "metadata": {},
   "outputs": [],
   "source": [
    "product1 = Product(1, \"Widget\", 9.99, 50)"
   ]
  },
  {
   "cell_type": "code",
   "execution_count": 51,
   "id": "4d5563bc-09a5-4d9d-be46-834726db9262",
   "metadata": {},
   "outputs": [],
   "source": [
    "product2 = Product(2, \"Gadget\", 19.99, 30)"
   ]
  },
  {
   "cell_type": "code",
   "execution_count": 52,
   "id": "76fa0380-e95c-4a2b-bd1e-601c938d78c6",
   "metadata": {},
   "outputs": [],
   "source": [
    "product3 = Product(3, \"Doodad\", 5.99, 75)"
   ]
  },
  {
   "cell_type": "code",
   "execution_count": 53,
   "id": "80410bad-4f36-44c4-b685-1bbb0d1ebd94",
   "metadata": {},
   "outputs": [],
   "source": [
    "inventory.add_product(product1)"
   ]
  },
  {
   "cell_type": "code",
   "execution_count": 54,
   "id": "bff37516-0ff2-4b0c-b99b-71361332d179",
   "metadata": {},
   "outputs": [],
   "source": [
    "inventory.add_product(product2)"
   ]
  },
  {
   "cell_type": "code",
   "execution_count": 55,
   "id": "d9ba8d3f-3f47-4d01-9477-521f49170389",
   "metadata": {},
   "outputs": [],
   "source": [
    "inventory.add_product(product3)"
   ]
  },
  {
   "cell_type": "code",
   "execution_count": 56,
   "id": "09bb282f-18ed-4f2e-8ed2-9e4b26735fd3",
   "metadata": {},
   "outputs": [
    {
     "data": {
      "text/plain": [
       "'\\nAvailable Products:\\nProduct ID: 1, Name: widget, Price: $9.99, Quantity: 50\\nProduct ID: 2, Name: gadget, Price: $19.99, Quantity: 30\\nProduct ID: 1, Name: Widget, Price: $9.99, Quantity: 50\\nProduct ID: 2, Name: Gadget, Price: $19.99, Quantity: 30\\nProduct ID: 3, Name: Doodad, Price: $5.99, Quantity: 75'"
      ]
     },
     "execution_count": 56,
     "metadata": {},
     "output_type": "execute_result"
    }
   ],
   "source": [
    "inventory.display_available_products()"
   ]
  },
  {
   "cell_type": "code",
   "execution_count": 48,
   "id": "78c36ff2-c6ee-444f-a8a8-809980d3e248",
   "metadata": {},
   "outputs": [
    {
     "data": {
      "text/plain": [
       "'Quantity for gadget (Product ID: 2) updated to 10.'"
      ]
     },
     "execution_count": 48,
     "metadata": {},
     "output_type": "execute_result"
    }
   ],
   "source": [
    "inventory.update_quantity(2, 10)"
   ]
  },
  {
   "cell_type": "code",
   "execution_count": 49,
   "id": "d49bafe5-ba12-4eec-a934-c4731463ce29",
   "metadata": {},
   "outputs": [
    {
     "data": {
      "text/plain": [
       "'\\nAvailable Products:\\nProduct ID: 1, Name: widget, Price: $9.99, Quantity: 50\\nProduct ID: 2, Name: gadget, Price: $19.99, Quantity: 30'"
      ]
     },
     "execution_count": 49,
     "metadata": {},
     "output_type": "execute_result"
    }
   ],
   "source": [
    "inventory.display_available_products()"
   ]
  },
  {
   "cell_type": "code",
   "execution_count": 74,
   "id": "67b3255e-7c3a-49c6-8d6a-f69480b3a993",
   "metadata": {},
   "outputs": [],
   "source": [
    "class Shape :\n",
    "    def __init__(self, length = 0, width = 0, height = 0):\n",
    "        self.length = length\n",
    "        self.width = width\n",
    "        self.height = height\n",
    "    \n",
    "    def area(self):\n",
    "        pass\n",
    "    \n",
    "    def perimeter(self):\n",
    "        pass\n",
    "    \n",
    "class Rectangle(Shape):\n",
    "    def area(self):\n",
    "        return self.length * self.width\n",
    "    \n",
    "    def perimeter(self):\n",
    "        return 2 * (self.length + self.width)\n",
    "        \n",
    "        \n",
    "class Triangle(Shape):\n",
    "    def area(self):\n",
    "        return 1/2 * self.length * self.width\n",
    "    \n",
    "    def perimeter(self):\n",
    "        return self.length + self.width + self.height\n",
    "    \n",
    "class Square(Rectangle) :\n",
    "    def __init__(self, side_length):\n",
    "        super().__init__(side_length, side_length)\n",
    "        \n",
    "class Circle(Shape) :\n",
    "    def __init__(self, redius):\n",
    "        super().__init__(redius, 0, 0)\n",
    "    \n",
    "    \n",
    "    def area(self):\n",
    "        import math\n",
    "        return math.pi * self.length * self.length\n",
    "    \n",
    "    def perimeter(self):\n",
    "        import math\n",
    "        return 2 * math.pi * self.length\n",
    "    \n",
    "    \n",
    "class Cuboid(Shape) :\n",
    "    def volume(self):\n",
    "        return self.length * self.width * self.height\n",
    "    \n",
    "    def surface_area(self):\n",
    "        return 2 * (self.length + self.width * self.length + self.height * self.width + self.height)\n",
    "        \n",
    "    "
   ]
  },
  {
   "cell_type": "code",
   "execution_count": 75,
   "id": "58226f7b-73b9-4135-a41f-ce7fafcd0eff",
   "metadata": {},
   "outputs": [],
   "source": [
    "if __name__ == \"__main__\":\n",
    "    rectangle = Rectangle(4, 6)"
   ]
  },
  {
   "cell_type": "code",
   "execution_count": 76,
   "id": "4a6d12c8-b3af-49f7-a51b-6fc94be97061",
   "metadata": {},
   "outputs": [
    {
     "data": {
      "text/plain": [
       "24"
      ]
     },
     "execution_count": 76,
     "metadata": {},
     "output_type": "execute_result"
    }
   ],
   "source": [
    "rectangle.area()"
   ]
  },
  {
   "cell_type": "code",
   "execution_count": 77,
   "id": "4b5494ab-8699-433a-945e-b03652b3fb11",
   "metadata": {},
   "outputs": [
    {
     "data": {
      "text/plain": [
       "20"
      ]
     },
     "execution_count": 77,
     "metadata": {},
     "output_type": "execute_result"
    }
   ],
   "source": [
    "rectangle.perimeter()"
   ]
  },
  {
   "cell_type": "code",
   "execution_count": 78,
   "id": "a5e62658-6b3d-4cd7-8309-6e5e6217e011",
   "metadata": {},
   "outputs": [],
   "source": [
    "if __name__ == \"__main__\":\n",
    "    triangle = Triangle(4, 2, 6)"
   ]
  },
  {
   "cell_type": "code",
   "execution_count": 79,
   "id": "3f105bc0-0695-4269-80f5-bf4f5562d66b",
   "metadata": {},
   "outputs": [
    {
     "data": {
      "text/plain": [
       "4.0"
      ]
     },
     "execution_count": 79,
     "metadata": {},
     "output_type": "execute_result"
    }
   ],
   "source": [
    "triangle.area()"
   ]
  },
  {
   "cell_type": "code",
   "execution_count": 80,
   "id": "5c1acbdb-dde3-4f63-acd6-9ec3c0e14d1c",
   "metadata": {},
   "outputs": [
    {
     "data": {
      "text/plain": [
       "12"
      ]
     },
     "execution_count": 80,
     "metadata": {},
     "output_type": "execute_result"
    }
   ],
   "source": [
    "triangle.perimeter()"
   ]
  },
  {
   "cell_type": "code",
   "execution_count": 83,
   "id": "ad78b30a-a2a9-4aef-8a4d-6d630a0888cb",
   "metadata": {},
   "outputs": [],
   "source": [
    "if __name__ == \"__main__\":\n",
    "    square = Square(5)"
   ]
  },
  {
   "cell_type": "code",
   "execution_count": 84,
   "id": "58054d50-3ea2-4309-8bb8-3fcc57005737",
   "metadata": {},
   "outputs": [
    {
     "data": {
      "text/plain": [
       "25"
      ]
     },
     "execution_count": 84,
     "metadata": {},
     "output_type": "execute_result"
    }
   ],
   "source": [
    "square.area()"
   ]
  },
  {
   "cell_type": "code",
   "execution_count": 85,
   "id": "d3f9b8e8-f261-4800-927f-17e4d699d83d",
   "metadata": {},
   "outputs": [
    {
     "data": {
      "text/plain": [
       "20"
      ]
     },
     "execution_count": 85,
     "metadata": {},
     "output_type": "execute_result"
    }
   ],
   "source": [
    "square.perimeter()"
   ]
  },
  {
   "cell_type": "code",
   "execution_count": 86,
   "id": "050485ab-731d-4f3f-abef-8049cb160af0",
   "metadata": {},
   "outputs": [],
   "source": [
    "if __name__ == \"__main__\":\n",
    "    circle = Circle(3)"
   ]
  },
  {
   "cell_type": "code",
   "execution_count": 87,
   "id": "cdaf7351-db04-4bd1-b91d-cb0dd93f2b70",
   "metadata": {},
   "outputs": [
    {
     "data": {
      "text/plain": [
       "28.274333882308138"
      ]
     },
     "execution_count": 87,
     "metadata": {},
     "output_type": "execute_result"
    }
   ],
   "source": [
    "circle.area()"
   ]
  },
  {
   "cell_type": "code",
   "execution_count": 88,
   "id": "17fbac0d-1818-4d7b-aa9f-713b15a6ce10",
   "metadata": {},
   "outputs": [
    {
     "data": {
      "text/plain": [
       "18.84955592153876"
      ]
     },
     "execution_count": 88,
     "metadata": {},
     "output_type": "execute_result"
    }
   ],
   "source": [
    "circle.perimeter()"
   ]
  },
  {
   "cell_type": "code",
   "execution_count": 89,
   "id": "ed1b3746-bba3-431b-bc30-f9069da00244",
   "metadata": {},
   "outputs": [],
   "source": [
    "if __name__ == \"__main__\":\n",
    "    cuboid = Cuboid(3, 4, 5)"
   ]
  },
  {
   "cell_type": "code",
   "execution_count": 90,
   "id": "374289a2-f834-4386-adfb-66a20ef7289d",
   "metadata": {},
   "outputs": [
    {
     "data": {
      "text/plain": [
       "60"
      ]
     },
     "execution_count": 90,
     "metadata": {},
     "output_type": "execute_result"
    }
   ],
   "source": [
    "cuboid.volume()"
   ]
  },
  {
   "cell_type": "code",
   "execution_count": 91,
   "id": "59c874c3-8400-4824-abc5-b6a6801f6ca9",
   "metadata": {},
   "outputs": [
    {
     "data": {
      "text/plain": [
       "80"
      ]
     },
     "execution_count": 91,
     "metadata": {},
     "output_type": "execute_result"
    }
   ],
   "source": [
    "cuboid.surface_area()"
   ]
  },
  {
   "cell_type": "code",
   "execution_count": 21,
   "id": "d6739a15-2f69-4d09-84fb-2e549665728f",
   "metadata": {},
   "outputs": [],
   "source": [
    "class Student :\n",
    "    def __init__(self, student_id, name):\n",
    "        self.student_id = student_id\n",
    "        self.name = name\n",
    "        self.grades = []\n",
    "        \n",
    "        \n",
    "    def add_grade(self,grade):\n",
    "        self.grades.append(grade)\n",
    "        \n",
    "        \n",
    "    def calculate_average_grade(self):\n",
    "        if len(self.grades) == 0:\n",
    "            return 0\n",
    "        total = sum(self.grades)\n",
    "        return total / len(self.grades)\n",
    "        \n",
    "        \n",
    "    def display_student_details(self):\n",
    "        print(\"Student ID:\", self.student_id)\n",
    "        print(\"Name:\", self.name)\n",
    "        print(\"Grades:\", self.grades)\n",
    "        print(\"Average Grade:\", self.calculate_average_grade())\n",
    "        "
   ]
  },
  {
   "cell_type": "code",
   "execution_count": 22,
   "id": "542f8069-9c27-4815-8375-415a38f72c3b",
   "metadata": {},
   "outputs": [],
   "source": [
    "student1 = Student(\"S001\", \"Rashmi\")"
   ]
  },
  {
   "cell_type": "code",
   "execution_count": 23,
   "id": "93939ef1-9b93-42bb-a9d3-83dafb600c52",
   "metadata": {},
   "outputs": [],
   "source": [
    "student1.add_grade(90)\n",
    "student1.add_grade(85)\n",
    "student1.add_grade(78)"
   ]
  },
  {
   "cell_type": "code",
   "execution_count": 24,
   "id": "0551c880-8a72-47dd-82b2-7b1f6da1b4b8",
   "metadata": {},
   "outputs": [
    {
     "name": "stdout",
     "output_type": "stream",
     "text": [
      "Student ID: S001\n",
      "Name: Rashmi\n",
      "Grades: [90, 85, 78]\n",
      "Average Grade: 84.33333333333333\n"
     ]
    }
   ],
   "source": [
    "student1.display_student_details()"
   ]
  },
  {
   "cell_type": "code",
   "execution_count": 2,
   "id": "1a9b478f-17bd-4b66-9cf9-7d950cc5ccf9",
   "metadata": {},
   "outputs": [],
   "source": [
    "class Email :\n",
    "    def __init__(self, sender, recipient, subject):\n",
    "        self.sender = sender\n",
    "        self.recipient = recipient\n",
    "        self.subject = subject\n",
    "        self.sent = False\n",
    "        \n",
    "        \n",
    "    def send_email(self):\n",
    "        if not self.sent:\n",
    "            \n",
    "            print(\"Email sent from {} to {} with subject: {}\".format(self.sender, self.recipient, self.subject))\n",
    "            self.sent = True\n",
    "        else:\n",
    "            print(\"Email has already been sent:\")\n",
    "            \n",
    "            \n",
    "    def display_email_details(self):\n",
    "        print(\"Sender:\", self.sender)\n",
    "        print(\"Recipient:\", self.recipient)\n",
    "        print(\"Subject:\", self.subject)\n"
   ]
  },
  {
   "cell_type": "code",
   "execution_count": 3,
   "id": "93ee68ab-760d-42dd-9770-e29fc611e4bf",
   "metadata": {},
   "outputs": [],
   "source": [
    "email = Email(\"rashmi@email.com\", \"Rainy@email.com\", \"Hello\")"
   ]
  },
  {
   "cell_type": "code",
   "execution_count": 4,
   "id": "442943b8-3a50-48dc-9c89-24a8a228347b",
   "metadata": {},
   "outputs": [
    {
     "name": "stdout",
     "output_type": "stream",
     "text": [
      "Email sent from rashmi@email.com to Rainy@email.com with subject: Hello\n"
     ]
    }
   ],
   "source": [
    "email.send_email()"
   ]
  },
  {
   "cell_type": "code",
   "execution_count": 5,
   "id": "38ff9031-c2f3-46af-b210-379123c89a6c",
   "metadata": {},
   "outputs": [
    {
     "name": "stdout",
     "output_type": "stream",
     "text": [
      "Sender: rashmi@email.com\n",
      "Recipient: Rainy@email.com\n",
      "Subject: Hello\n"
     ]
    }
   ],
   "source": [
    "email.display_email_details()"
   ]
  },
  {
   "cell_type": "code",
   "execution_count": 17,
   "id": "0d708f28-4466-441f-9538-4ac8022a6ad9",
   "metadata": {},
   "outputs": [],
   "source": [
    "class SocialMediaProfile :\n",
    "    def __init__(self, username):\n",
    "        self.username = username\n",
    "        self.posts = []\n",
    "        \n",
    "    def add_post(self, post_text):\n",
    "        self.posts.append(post_text)\n",
    "        \n",
    "    def display_posts(self):\n",
    "        if not self.posts:\n",
    "            print(f\"{self.username}'s profile has no postts.\")\n",
    "            \n",
    "        else:\n",
    "            print(f\"{self.username}'s posts:\")\n",
    "            for i, post in enumerate(self.posts, start=1):\n",
    "                print(f\"Post {i}. {post}\")\n",
    "        \n",
    "        \n",
    "    def search_posts(self, keyword):\n",
    "        matching_posts:[post for post in self.posts if keyword in post]\n",
    "        if  matching_posts:\n",
    "            print(f\"posts by {self.username} containing '{keyword}':\")\n",
    "            for i, post in enumerate(matching_posts,star=1):\n",
    "                print(f\"Post{i}. {post}\")\n",
    "        else:\n",
    "            print(f\"No post by {self.username} contain '{keyword}'.\")\n",
    "        "
   ]
  },
  {
   "cell_type": "code",
   "execution_count": 18,
   "id": "454f631a-bb49-4f2d-94ab-116615783dfc",
   "metadata": {},
   "outputs": [],
   "source": [
    "user_profile = SocialMediaProfile(\"Rashmi\")"
   ]
  },
  {
   "cell_type": "code",
   "execution_count": 19,
   "id": "e62db34b-e490-4743-9d98-394a4d8986d3",
   "metadata": {},
   "outputs": [],
   "source": [
    "user_profile.add_post(\"i love using social media platform\")\n",
    "user_profile.add_post(\"Enjoying in sunny day at the beach!\")\n",
    "user_profile.add_post(\"Hikking in the mountains is my favorite activity\")"
   ]
  },
  {
   "cell_type": "code",
   "execution_count": 20,
   "id": "3482c080-ab34-4c42-9f78-e8577fc04766",
   "metadata": {},
   "outputs": [
    {
     "name": "stdout",
     "output_type": "stream",
     "text": [
      "Rashmi's posts:\n",
      "Post 1. i love using social media platform\n",
      "Post 2. Enjoying in sunny day at the beach!\n",
      "Post 3. Hikking in the mountains is my favorite activity\n"
     ]
    }
   ],
   "source": [
    "user_profile.display_posts()"
   ]
  },
  {
   "cell_type": "code",
   "execution_count": 21,
   "id": "099f100a-0ef9-4247-917c-cb1b88ff46f5",
   "metadata": {},
   "outputs": [],
   "source": [
    "search_keyword = \"beach\""
   ]
  },
  {
   "cell_type": "code",
   "execution_count": 23,
   "id": "d811fe30-708b-4943-ac76-15e2ff468502",
   "metadata": {},
   "outputs": [
    {
     "ename": "UnboundLocalError",
     "evalue": "local variable 'matching_posts' referenced before assignment",
     "output_type": "error",
     "traceback": [
      "\u001b[0;31m---------------------------------------------------------------------------\u001b[0m",
      "\u001b[0;31mUnboundLocalError\u001b[0m                         Traceback (most recent call last)",
      "Cell \u001b[0;32mIn[23], line 1\u001b[0m\n\u001b[0;32m----> 1\u001b[0m \u001b[43muser_profile\u001b[49m\u001b[38;5;241;43m.\u001b[39;49m\u001b[43msearch_posts\u001b[49m\u001b[43m(\u001b[49m\u001b[38;5;124;43m\"\u001b[39;49m\u001b[38;5;124;43mmountains\u001b[39;49m\u001b[38;5;124;43m\"\u001b[39;49m\u001b[43m)\u001b[49m\n",
      "Cell \u001b[0;32mIn[17], line 21\u001b[0m, in \u001b[0;36mSocialMediaProfile.search_posts\u001b[0;34m(self, keyword)\u001b[0m\n\u001b[1;32m     19\u001b[0m \u001b[38;5;28;01mdef\u001b[39;00m \u001b[38;5;21msearch_posts\u001b[39m(\u001b[38;5;28mself\u001b[39m, keyword):\n\u001b[1;32m     20\u001b[0m     matching_posts:[post \u001b[38;5;28;01mfor\u001b[39;00m post \u001b[38;5;129;01min\u001b[39;00m \u001b[38;5;28mself\u001b[39m\u001b[38;5;241m.\u001b[39mposts \u001b[38;5;28;01mif\u001b[39;00m keyword \u001b[38;5;129;01min\u001b[39;00m post]\n\u001b[0;32m---> 21\u001b[0m     \u001b[38;5;28;01mif\u001b[39;00m  \u001b[43mmatching_posts\u001b[49m:\n\u001b[1;32m     22\u001b[0m         \u001b[38;5;28mprint\u001b[39m(\u001b[38;5;124mf\u001b[39m\u001b[38;5;124m\"\u001b[39m\u001b[38;5;124mposts by \u001b[39m\u001b[38;5;132;01m{\u001b[39;00m\u001b[38;5;28mself\u001b[39m\u001b[38;5;241m.\u001b[39musername\u001b[38;5;132;01m}\u001b[39;00m\u001b[38;5;124m containing \u001b[39m\u001b[38;5;124m'\u001b[39m\u001b[38;5;132;01m{\u001b[39;00mkeyword\u001b[38;5;132;01m}\u001b[39;00m\u001b[38;5;124m'\u001b[39m\u001b[38;5;124m:\u001b[39m\u001b[38;5;124m\"\u001b[39m)\n\u001b[1;32m     23\u001b[0m         \u001b[38;5;28;01mfor\u001b[39;00m i, post \u001b[38;5;129;01min\u001b[39;00m \u001b[38;5;28menumerate\u001b[39m(matching_posts,star\u001b[38;5;241m=\u001b[39m\u001b[38;5;241m1\u001b[39m):\n",
      "\u001b[0;31mUnboundLocalError\u001b[0m: local variable 'matching_posts' referenced before assignment"
     ]
    }
   ],
   "source": [
    "user_profile.search_posts(\"mountains\")"
   ]
  },
  {
   "cell_type": "code",
   "execution_count": 5,
   "id": "35ec6afb-2d81-4e78-9c4c-6f7656b3d517",
   "metadata": {},
   "outputs": [],
   "source": [
    "class ToDoList:\n",
    "    def __init__(self):\n",
    "        self.tasks = []\n",
    "        \n",
    "    def add_task(self, task, due_date):\n",
    "        self.tasks.append({\"task\": task, \"due_date\": due_date, \"completed\": False})\n",
    "        \n",
    "    def mark_task_completed(self, task_name):\n",
    "        for task in self.tasks:\n",
    "            if task[\"task\"] == task_name:\n",
    "                task[\"completed\"] = True\n",
    "                \n",
    "                \n",
    "    def display_pending_tasks(self):\n",
    "        pending_tasks = [task for task in self.tasks if not task[\"completed\"]]\n",
    "        for task in pending_tasks:\n",
    "            print(f'Task: {task[\"task\"]}, Due Date: {task[\"due_date\"]}, completed: {task[\"completed\"]}')\n",
    "            \n",
    "                         "
   ]
  },
  {
   "cell_type": "code",
   "execution_count": 6,
   "id": "0d94908f-837f-4177-8810-8501bbed9fc7",
   "metadata": {},
   "outputs": [],
   "source": [
    "todo = ToDoList()"
   ]
  },
  {
   "cell_type": "code",
   "execution_count": 7,
   "id": "a90acac2-7994-4f4f-8dff-9d890bab22b4",
   "metadata": {},
   "outputs": [],
   "source": [
    "todo.add_task(\"buy books\", \"2023-10-13\")\n",
    "todo.add_task(\"Finish Homework\", \"2023-10-12\")\n",
    "todo.add_task(\"Go to gym\", \"2023-10-11\")"
   ]
  },
  {
   "cell_type": "code",
   "execution_count": 8,
   "id": "79458de1-747a-4a47-92ec-3fd6799faf17",
   "metadata": {},
   "outputs": [],
   "source": [
    "todo.mark_task_completed(\"buy books\")"
   ]
  },
  {
   "cell_type": "code",
   "execution_count": 9,
   "id": "984cbb8d-e7a6-4282-9073-37cfc5b08b0d",
   "metadata": {},
   "outputs": [
    {
     "name": "stdout",
     "output_type": "stream",
     "text": [
      "Task: Finish Homework, Due Date: 2023-10-12, completed: False\n",
      "Task: Go to gym, Due Date: 2023-10-11, completed: False\n"
     ]
    }
   ],
   "source": [
    "todo.display_pending_tasks()"
   ]
  },
  {
   "cell_type": "code",
   "execution_count": null,
   "id": "e899860b-aafc-43f9-add1-13772514d9f9",
   "metadata": {},
   "outputs": [],
   "source": []
  }
 ],
 "metadata": {
  "kernelspec": {
   "display_name": "Python 3 (ipykernel)",
   "language": "python",
   "name": "python3"
  },
  "language_info": {
   "codemirror_mode": {
    "name": "ipython",
    "version": 3
   },
   "file_extension": ".py",
   "mimetype": "text/x-python",
   "name": "python",
   "nbconvert_exporter": "python",
   "pygments_lexer": "ipython3",
   "version": "3.10.8"
  }
 },
 "nbformat": 4,
 "nbformat_minor": 5
}
